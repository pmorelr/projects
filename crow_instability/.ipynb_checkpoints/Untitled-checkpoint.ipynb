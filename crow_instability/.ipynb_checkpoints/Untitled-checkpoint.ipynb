{
 "cells": [
  {
   "cell_type": "code",
   "execution_count": 4,
   "id": "romantic-effort",
   "metadata": {},
   "outputs": [],
   "source": [
    "x=0.1+0.3j\n",
    "import numpy as np"
   ]
  },
  {
   "cell_type": "code",
   "execution_count": 2,
   "id": "danish-narrative",
   "metadata": {},
   "outputs": [],
   "source": [
    "from cylinderModule import *\n",
    "\n",
    "# shift value\n",
    "sigma = 2 + 0.1j\n",
    "# number of eigenmodes to compute\n",
    "k = 10\n",
    "kk = 1.4\n"
   ]
  },
  {
   "cell_type": "code",
   "execution_count": 3,
   "id": "impressive-creature",
   "metadata": {},
   "outputs": [
    {
     "name": "stdout",
     "output_type": "stream",
     "text": [
      "{'Eigen': 'Template-based linear algebra  library', 'PETSc': 'Powerful MPI parallel linear algebra library (default)'}\n",
      "Number of degrees of freedom = 38862\n"
     ]
    }
   ],
   "source": [
    "print(cpp.la.linear_algebra_backends())\n",
    "cylinder = LIAproblem2D(100,\"./Results/DNS/DNS/\")"
   ]
  },
  {
   "cell_type": "code",
   "execution_count": 26,
   "id": "ambient-render",
   "metadata": {},
   "outputs": [],
   "source": [
    "waw.append([1,2])"
   ]
  },
  {
   "cell_type": "code",
   "execution_count": 27,
   "id": "moving-interview",
   "metadata": {},
   "outputs": [
    {
     "data": {
      "text/plain": [
       "[[1, 2], [1, 2]]"
      ]
     },
     "execution_count": 27,
     "metadata": {},
     "output_type": "execute_result"
    }
   ],
   "source": [
    "waw"
   ]
  },
  {
   "cell_type": "code",
   "execution_count": 28,
   "id": "disabled-secondary",
   "metadata": {},
   "outputs": [],
   "source": [
    "waw = [[1,2], [2,5],[6,3],[1,9],[4,4]]"
   ]
  },
  {
   "cell_type": "code",
   "execution_count": 29,
   "id": "composite-miller",
   "metadata": {},
   "outputs": [],
   "source": [
    "waw.sort(key = lambda x: x[1])"
   ]
  },
  {
   "cell_type": "code",
   "execution_count": 30,
   "id": "tough-murray",
   "metadata": {},
   "outputs": [
    {
     "data": {
      "text/plain": [
       "[[1, 2], [6, 3], [4, 4], [2, 5], [1, 9]]"
      ]
     },
     "execution_count": 30,
     "metadata": {},
     "output_type": "execute_result"
    }
   ],
   "source": [
    "waw"
   ]
  },
  {
   "cell_type": "code",
   "execution_count": 49,
   "id": "amber-chuck",
   "metadata": {},
   "outputs": [
    {
     "name": "stdout",
     "output_type": "stream",
     "text": [
      "{'Eigen': 'Template-based linear algebra  library', 'PETSc': 'Powerful MPI parallel linear algebra library (default)'}\n",
      "Number of degrees of freedom = 38862\n",
      "teste\n"
     ]
    }
   ],
   "source": [
    "from cylinderModule import *\n",
    "\n",
    "# shift value\n",
    "sigma = 2 + 0.1j\n",
    "# number of eigenmodes to compute\n",
    "k = 10\n",
    "kk = 1.4\n",
    "\n",
    "print(cpp.la.linear_algebra_backends())\n",
    "cylinder = LIAproblem2D(100,\"./Results/DNS/DNS/\")\n",
    "# cylinder.steady_state()\n",
    "print('teste')\n",
    "#cylinder.eigenvalues(sigma=sigma, k=k, kk=kk)\n",
    "im_values = cylinder.eigenvalues_k(sigma=sigma, k=k, kk_list=np.arange(1.2,2.8,0.025))"
   ]
  },
  {
   "cell_type": "code",
   "execution_count": 54,
   "id": "oriented-medication",
   "metadata": {},
   "outputs": [
    {
     "data": {
      "image/png": "[encoded data removed]",
      "text/plain": [
       "<Figure size 432x288 with 1 Axes>"
      ]
     },
     "metadata": {},
     "output_type": "display_data"
    }
   ],
   "source": [
    "plt.figure()\n",
    "plt.title('Growth rate vs Wave number')\n",
    "plt.xlabel('Wave number value')\n",
    "plt.ylabel('Imaginary component of the eigenvalue')\n",
    "plt.plot(np.arange(1.2,2.8,0.025), im_values, 'k')\n",
    "plt.xlim([1, 2.2])\n",
    "plt.savefig('k_im2.png', dpi= 200)"
   ]
  },
  {
   "cell_type": "code",
   "execution_count": 38,
   "id": "egyptian-onion",
   "metadata": {},
   "outputs": [],
   "source": [
    "sigma = 1 - 0.1j\n",
    "im_values2 = cylinder.eigenvalues_k(sigma=sigma, k=k, kk_list=np.arange(0,1,0.2))"
   ]
  },
  {
   "cell_type": "code",
   "execution_count": 66,
   "id": "historic-claim",
   "metadata": {},
   "outputs": [
    {
     "data": {
      "text/plain": [
       "0.005413386720213352"
      ]
     },
     "execution_count": 66,
     "metadata": {},
     "output_type": "execute_result"
    }
   ],
   "source": [
    "max(im_values)"
   ]
  },
  {
   "cell_type": "code",
   "execution_count": 60,
   "id": "concrete-level",
   "metadata": {},
   "outputs": [],
   "source": [
    "l = list(zip(np.arange(1.2,2.8,0.025), im_values))"
   ]
  },
  {
   "cell_type": "code",
   "execution_count": 73,
   "id": "unusual-montgomery",
   "metadata": {},
   "outputs": [
    {
     "name": "stdout",
     "output_type": "stream",
     "text": [
      "1.774999999999998\n"
     ]
    }
   ],
   "source": [
    "for i in range(len(im_values)):\n",
    "    x = list(l[i])\n",
    "    if x[1] == m:\n",
    "        print(x[0])"
   ]
  },
  {
   "cell_type": "code",
   "execution_count": 75,
   "id": "narrative-prague",
   "metadata": {},
   "outputs": [
    {
     "name": "stdout",
     "output_type": "stream",
     "text": [
      "{'Eigen': 'Template-based linear algebra  library', 'PETSc': 'Powerful MPI parallel linear algebra library (default)'}\n",
      "Number of degrees of freedom = 38862\n",
      "teste\n",
      "Computing eigenvalues/vectors ...\n",
      "-0.005413386720213463 (-0.09713136950565975-0.005413386720213463j)\n",
      "-0.0029658974871574293 (-0.07916572568545305-0.0029658974871574293j)\n",
      "0.0 (-0.027223953008273082+0j)\n",
      "0.0 (-0.07355866863216823+0j)\n",
      "0.0 (-0.09968005988565995+0j)\n",
      "0.0 (-0.11030286175757864+0j)\n",
      "0.0 (-0.1270966717943234+0j)\n",
      "0.0 (-0.12912604885739098+0j)\n",
      "0.0029658974871574293 (-0.07916572568545305+0.0029658974871574293j)\n",
      "0.005413386720213463 (-0.09713136950565975+0.005413386720213463j)\n"
     ]
    },
    {
     "name": "stderr",
     "output_type": "stream",
     "text": [
      "/home/pmorelr/Documents/master/Cato2/cylinderModule.py:201: ComplexWarning: Casting complex values to real discards the imaginary part\n",
      "  ua.vector()[freeinds] = vecs[:,i]\n"
     ]
    }
   ],
   "source": [
    "from cylinderModule import *\n",
    "\n",
    "# shift value\n",
    "sigma = 2 + 0.1j\n",
    "# number of eigenmodes to compute\n",
    "k = 10\n",
    "kk = 1.775\n",
    "\n",
    "print(cpp.la.linear_algebra_backends())\n",
    "cylinder = LIAproblem2D(100,\"./Results/DNS/DNS/\")\n",
    "# cylinder.steady_state()\n",
    "print('teste')\n",
    "#cylinder.eigenvalues(sigma=sigma, k=k, kk=kk)\n",
    "im_values = cylinder.eigenvalues(sigma=sigma, k=k, kk=kk)"
   ]
  },
  {
   "cell_type": "code",
   "execution_count": 9,
   "id": "endangered-school",
   "metadata": {},
   "outputs": [
    {
     "ename": "AttributeError",
     "evalue": "Vector length must match geometric dimension.",
     "output_type": "error",
     "traceback": [
      "\u001b[0;31m---------------------------------------------------------------------------\u001b[0m",
      "\u001b[0;31mAttributeError\u001b[0m                            Traceback (most recent call last)",
      "\u001b[0;32m<ipython-input-9-acd310195498>\u001b[0m in \u001b[0;36m<module>\u001b[0;34m\u001b[0m\n\u001b[0;32m----> 1\u001b[0;31m \u001b[0mcylinder\u001b[0m\u001b[0;34m.\u001b[0m\u001b[0meigenvecs\u001b[0m\u001b[0;34m(\u001b[0m\u001b[0;36m1\u001b[0m\u001b[0;34m)\u001b[0m\u001b[0;34m\u001b[0m\u001b[0;34m\u001b[0m\u001b[0m\n\u001b[0m",
      "\u001b[0;32m~/Documents/master/Cato2/cylinderModule.py\u001b[0m in \u001b[0;36meigenvecs\u001b[0;34m(self, i)\u001b[0m\n\u001b[1;32m    277\u001b[0m     \u001b[0mFile\u001b[0m\u001b[0;34m(\u001b[0m\u001b[0mself\u001b[0m\u001b[0;34m.\u001b[0m\u001b[0mrespath\u001b[0m\u001b[0;34m+\u001b[0m\u001b[0;34m\"evec{0}.xml\"\u001b[0m\u001b[0;34m.\u001b[0m\u001b[0mformat\u001b[0m\u001b[0;34m(\u001b[0m\u001b[0mi\u001b[0m\u001b[0;34m)\u001b[0m\u001b[0;34m)\u001b[0m \u001b[0;34m>>\u001b[0m \u001b[0mevc\u001b[0m\u001b[0;34m(\u001b[0m\u001b[0;34m)\u001b[0m\u001b[0;34m\u001b[0m\u001b[0;34m\u001b[0m\u001b[0m\n\u001b[1;32m    278\u001b[0m \u001b[0;34m\u001b[0m\u001b[0m\n\u001b[0;32m--> 279\u001b[0;31m     \u001b[0mplot\u001b[0m\u001b[0;34m(\u001b[0m\u001b[0mevc\u001b[0m\u001b[0;34m)\u001b[0m\u001b[0;34m\u001b[0m\u001b[0;34m\u001b[0m\u001b[0m\n\u001b[0m\u001b[1;32m    280\u001b[0m     \u001b[0mplt\u001b[0m\u001b[0;34m.\u001b[0m\u001b[0mshow\u001b[0m\u001b[0;34m(\u001b[0m\u001b[0;34m)\u001b[0m\u001b[0;34m\u001b[0m\u001b[0;34m\u001b[0m\u001b[0m\n\u001b[1;32m    281\u001b[0m \u001b[0;34m\u001b[0m\u001b[0m\n",
      "\u001b[0;32m/usr/lib/petsc/lib/python3/dist-packages/dolfin/common/plotting.py\u001b[0m in \u001b[0;36mplot\u001b[0;34m(object, *args, **kwargs)\u001b[0m\n\u001b[1;32m    436\u001b[0m     \u001b[0;31m# Plot\u001b[0m\u001b[0;34m\u001b[0m\u001b[0;34m\u001b[0m\u001b[0;34m\u001b[0m\u001b[0m\n\u001b[1;32m    437\u001b[0m     \u001b[0;32mif\u001b[0m \u001b[0mbackend\u001b[0m \u001b[0;34m==\u001b[0m \u001b[0;34m\"matplotlib\"\u001b[0m\u001b[0;34m:\u001b[0m\u001b[0;34m\u001b[0m\u001b[0;34m\u001b[0m\u001b[0m\n\u001b[0;32m--> 438\u001b[0;31m         \u001b[0;32mreturn\u001b[0m \u001b[0m_plot_matplotlib\u001b[0m\u001b[0;34m(\u001b[0m\u001b[0mobject\u001b[0m\u001b[0;34m,\u001b[0m \u001b[0mmesh\u001b[0m\u001b[0;34m,\u001b[0m \u001b[0mkwargs\u001b[0m\u001b[0;34m)\u001b[0m\u001b[0;34m\u001b[0m\u001b[0;34m\u001b[0m\u001b[0m\n\u001b[0m\u001b[1;32m    439\u001b[0m     \u001b[0;32melif\u001b[0m \u001b[0mbackend\u001b[0m \u001b[0;34m==\u001b[0m \u001b[0;34m\"x3dom\"\u001b[0m\u001b[0;34m:\u001b[0m\u001b[0;34m\u001b[0m\u001b[0;34m\u001b[0m\u001b[0m\n\u001b[1;32m    440\u001b[0m         \u001b[0;32mreturn\u001b[0m \u001b[0m_plot_x3dom\u001b[0m\u001b[0;34m(\u001b[0m\u001b[0mobject\u001b[0m\u001b[0;34m,\u001b[0m \u001b[0mkwargs\u001b[0m\u001b[0;34m)\u001b[0m\u001b[0;34m\u001b[0m\u001b[0;34m\u001b[0m\u001b[0m\n",
      "\u001b[0;32m/usr/lib/petsc/lib/python3/dist-packages/dolfin/common/plotting.py\u001b[0m in \u001b[0;36m_plot_matplotlib\u001b[0;34m(obj, mesh, kwargs)\u001b[0m\n\u001b[1;32m    302\u001b[0m \u001b[0;34m\u001b[0m\u001b[0m\n\u001b[1;32m    303\u001b[0m     \u001b[0;32mif\u001b[0m \u001b[0misinstance\u001b[0m\u001b[0;34m(\u001b[0m\u001b[0mobj\u001b[0m\u001b[0;34m,\u001b[0m \u001b[0mcpp\u001b[0m\u001b[0;34m.\u001b[0m\u001b[0mfunction\u001b[0m\u001b[0;34m.\u001b[0m\u001b[0mFunction\u001b[0m\u001b[0;34m)\u001b[0m\u001b[0;34m:\u001b[0m\u001b[0;34m\u001b[0m\u001b[0;34m\u001b[0m\u001b[0m\n\u001b[0;32m--> 304\u001b[0;31m         \u001b[0;32mreturn\u001b[0m \u001b[0mmplot_function\u001b[0m\u001b[0;34m(\u001b[0m\u001b[0max\u001b[0m\u001b[0;34m,\u001b[0m \u001b[0mobj\u001b[0m\u001b[0;34m,\u001b[0m \u001b[0;34m**\u001b[0m\u001b[0mkwargs\u001b[0m\u001b[0;34m)\u001b[0m\u001b[0;34m\u001b[0m\u001b[0;34m\u001b[0m\u001b[0m\n\u001b[0m\u001b[1;32m    305\u001b[0m     \u001b[0;32melif\u001b[0m \u001b[0misinstance\u001b[0m\u001b[0;34m(\u001b[0m\u001b[0mobj\u001b[0m\u001b[0;34m,\u001b[0m \u001b[0mcpp\u001b[0m\u001b[0;34m.\u001b[0m\u001b[0mfunction\u001b[0m\u001b[0;34m.\u001b[0m\u001b[0mExpression\u001b[0m\u001b[0;34m)\u001b[0m\u001b[0;34m:\u001b[0m\u001b[0;34m\u001b[0m\u001b[0;34m\u001b[0m\u001b[0m\n\u001b[1;32m    306\u001b[0m         \u001b[0;32mreturn\u001b[0m \u001b[0mmplot_expression\u001b[0m\u001b[0;34m(\u001b[0m\u001b[0max\u001b[0m\u001b[0;34m,\u001b[0m \u001b[0mobj\u001b[0m\u001b[0;34m,\u001b[0m \u001b[0mmesh\u001b[0m\u001b[0;34m,\u001b[0m \u001b[0;34m**\u001b[0m\u001b[0mkwargs\u001b[0m\u001b[0;34m)\u001b[0m\u001b[0;34m\u001b[0m\u001b[0;34m\u001b[0m\u001b[0m\n",
      "\u001b[0;32m/usr/lib/petsc/lib/python3/dist-packages/dolfin/common/plotting.py\u001b[0m in \u001b[0;36mmplot_function\u001b[0;34m(ax, f, **kwargs)\u001b[0m\n\u001b[1;32m    199\u001b[0m         \u001b[0mnv\u001b[0m \u001b[0;34m=\u001b[0m \u001b[0mmesh\u001b[0m\u001b[0;34m.\u001b[0m\u001b[0mnum_vertices\u001b[0m\u001b[0;34m(\u001b[0m\u001b[0;34m)\u001b[0m\u001b[0;34m\u001b[0m\u001b[0;34m\u001b[0m\u001b[0m\n\u001b[1;32m    200\u001b[0m         \u001b[0;32mif\u001b[0m \u001b[0mlen\u001b[0m\u001b[0;34m(\u001b[0m\u001b[0mw0\u001b[0m\u001b[0;34m)\u001b[0m \u001b[0;34m!=\u001b[0m \u001b[0mgdim\u001b[0m \u001b[0;34m*\u001b[0m \u001b[0mnv\u001b[0m\u001b[0;34m:\u001b[0m\u001b[0;34m\u001b[0m\u001b[0;34m\u001b[0m\u001b[0m\n\u001b[0;32m--> 201\u001b[0;31m             \u001b[0;32mraise\u001b[0m \u001b[0mAttributeError\u001b[0m\u001b[0;34m(\u001b[0m\u001b[0;34m'Vector length must match geometric dimension.'\u001b[0m\u001b[0;34m)\u001b[0m\u001b[0;34m\u001b[0m\u001b[0;34m\u001b[0m\u001b[0m\n\u001b[0m\u001b[1;32m    202\u001b[0m         \u001b[0mX\u001b[0m \u001b[0;34m=\u001b[0m \u001b[0mmesh\u001b[0m\u001b[0;34m.\u001b[0m\u001b[0mcoordinates\u001b[0m\u001b[0;34m(\u001b[0m\u001b[0;34m)\u001b[0m\u001b[0;34m\u001b[0m\u001b[0;34m\u001b[0m\u001b[0m\n\u001b[1;32m    203\u001b[0m         \u001b[0mX\u001b[0m \u001b[0;34m=\u001b[0m \u001b[0;34m[\u001b[0m\u001b[0mX\u001b[0m\u001b[0;34m[\u001b[0m\u001b[0;34m:\u001b[0m\u001b[0;34m,\u001b[0m \u001b[0mi\u001b[0m\u001b[0;34m]\u001b[0m \u001b[0;32mfor\u001b[0m \u001b[0mi\u001b[0m \u001b[0;32min\u001b[0m \u001b[0mrange\u001b[0m\u001b[0;34m(\u001b[0m\u001b[0mgdim\u001b[0m\u001b[0;34m)\u001b[0m\u001b[0;34m]\u001b[0m\u001b[0;34m\u001b[0m\u001b[0;34m\u001b[0m\u001b[0m\n",
      "\u001b[0;31mAttributeError\u001b[0m: Vector length must match geometric dimension."
     ]
    },
    {
     "data": {
      "image/png": "[encoded data removed]",
      "text/plain": [
       "<Figure size 432x288 with 1 Axes>"
      ]
     },
     "metadata": {},
     "output_type": "display_data"
    }
   ],
   "source": [
    "cylinder.eigenvecs(1)"
   ]
  },
  {
   "cell_type": "code",
   "execution_count": null,
   "id": "stunning-caution",
   "metadata": {},
   "outputs": [],
   "source": []
  }
 ],
 "metadata": {
  "kernelspec": {
   "display_name": "Python 3",
   "language": "python",
   "name": "python3"
  },
  "language_info": {
   "codemirror_mode": {
    "name": "ipython",
    "version": 3
   },
   "file_extension": ".py",
   "mimetype": "text/x-python",
   "name": "python",
   "nbconvert_exporter": "python",
   "pygments_lexer": "ipython3",
   "version": "3.8.10"
  }
 },
 "nbformat": 4,
 "nbformat_minor": 5
}
